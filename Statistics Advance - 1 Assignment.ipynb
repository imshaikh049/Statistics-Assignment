{
 "cells": [
  {
   "cell_type": "code",
   "execution_count": null,
   "id": "69f73620-93e7-42c1-9320-104784e31d31",
   "metadata": {},
   "outputs": [],
   "source": [
    "Q1. What is the Probability Density Function (PDF)?\n",
    "The Probability Density Function (PDF) describes the likelihood of a random variable taking a specific value within a continuous probability distribution. In simple terms, it gives the probability that a continuous random variable will fall within a certain range. The area under the PDF curve over a specific interval gives the probability that the variable falls within that interval."
   ]
  },
  {
   "cell_type": "code",
   "execution_count": null,
   "id": "5087d72f-8ede-4447-8848-267c5d23c136",
   "metadata": {},
   "outputs": [],
   "source": [
    "Q2. What are the types of Probability Distribution?\n",
    "There are several types of probability distributions, classified based on whether they are discrete or continuous:\n",
    "\n",
    "Discrete Probability Distributions:\n",
    "\n",
    "Binomial Distribution\n",
    "Poisson Distribution\n",
    "Geometric Distribution\n",
    "Negative Binomial Distribution\n",
    "Continuous Probability Distributions:\n",
    "\n",
    "Normal (Gaussian) Distribution\n",
    "Exponential Distribution\n",
    "Uniform Distribution\n",
    "Gamma Distribution"
   ]
  },
  {
   "cell_type": "code",
   "execution_count": null,
   "id": "3d7abc76-1936-4e5c-8712-a29b3386d4e0",
   "metadata": {},
   "outputs": [],
   "source": [
    "Q3. Python Function to Calculate PDF of Normal Distribution\n",
    "\n",
    "\n",
    "import math\n",
    "\n",
    "def normal_pdf(x, mean, std_dev):\n",
    "    exponent = math.exp(-((x - mean) ** 2) / (2 * std_dev ** 2))\n",
    "    return (1 / (std_dev * math.sqrt(2 * math.pi))) * exponent\n",
    "\n",
    "# Example Usage:\n",
    "x = 2\n",
    "mean = 0\n",
    "std_dev = 1\n",
    "result = normal_pdf(x, mean, std_dev)\n",
    "print(\"PDF value at x =\", x, \"is\", result)\n"
   ]
  },
  {
   "cell_type": "code",
   "execution_count": null,
   "id": "8ec5e369-2d9e-4909-b87f-011e523079c1",
   "metadata": {},
   "outputs": [],
   "source": [
    "Q4. Properties of Binomial Distribution\n",
    "The number of trials \n",
    "𝑛\n",
    "n is fixed.\n",
    "Each trial has only two possible outcomes: success or failure.\n",
    "The probability of success \n",
    "𝑝\n",
    "p is constant across trials.\n",
    "The trials are independent of each other.\n",
    "Examples:\n",
    "\n",
    "Tossing a coin 10 times and counting the number of heads.\n",
    "The number of defective items in a batch of 100 manufactured products, where the probability of a defect is known."
   ]
  },
  {
   "cell_type": "code",
   "execution_count": null,
   "id": "2b338f2d-1700-4049-8987-2edb4d9bd226",
   "metadata": {},
   "outputs": [],
   "source": [
    "Q5. Generate Random Sample from Binomial Distribution and Plot Histogram\n",
    "\n",
    "import numpy as np\n",
    "import matplotlib.pyplot as plt\n",
    "\n",
    "# Parameters\n",
    "n = 10  # Number of trials\n",
    "p = 0.4  # Probability of success\n",
    "size = 1000  # Sample size\n",
    "\n",
    "# Generate random sample\n",
    "sample = np.random.binomial(n, p, size)\n",
    "\n",
    "# Plot histogram\n",
    "plt.hist(sample, bins=10, color='blue', edgecolor='black')\n",
    "plt.title('Binomial Distribution Histogram')\n",
    "plt.xlabel('Number of successes')\n",
    "plt.ylabel('Frequency')\n",
    "plt.show()\n"
   ]
  },
  {
   "cell_type": "code",
   "execution_count": null,
   "id": "3bf2e2ef-dd1f-4c1e-8908-f9a14e2bfba7",
   "metadata": {},
   "outputs": [],
   "source": [
    "Q6. Python Function to Calculate Cumulative Distribution Function of Poisson Distribution.\n",
    "\n",
    "import math\n",
    "\n",
    "def poisson_cdf(k, mean):\n",
    "    cumulative_prob = 0\n",
    "    for i in range(0, k + 1):\n",
    "        cumulative_prob += (math.exp(-mean) * (mean ** i)) / math.factorial(i)\n",
    "    return cumulative_prob\n",
    "\n",
    "# Example Usage:\n",
    "k = 5\n",
    "mean = 3\n",
    "result = poisson_cdf(k, mean)\n",
    "print(\"CDF value at k =\", k, \"is\", result)\n"
   ]
  },
  {
   "cell_type": "code",
   "execution_count": null,
   "id": "649e1872-5f9c-49bc-89a0-8c9a79a7cdc3",
   "metadata": {},
   "outputs": [],
   "source": [
    "Q7. Differences Between Binomial and Poisson Distribution.\n",
    "\n",
    "Binomial Distribution: Describes the number of successes in a fixed number of independent trials with a constant probability of success.\n",
    "\n",
    "Used when the number of trials is fixed.\n",
    "Each trial has a probability of success p and failure 1 − 𝑝.\n",
    "\n",
    "Poisson Distribution: Describes the number of events occurring in a fixed interval of time or space, given a constant mean rate.\n",
    "\n",
    "Used when the number of trials is not fixed but instead occur over a continuous period.\n",
    "Describes rare events."
   ]
  },
  {
   "cell_type": "code",
   "execution_count": null,
   "id": "c504d1e8-f2a4-4ab5-88cb-168982eb14cb",
   "metadata": {},
   "outputs": [],
   "source": [
    "Q8. Generate Random Sample from Poisson Distribution and Calculate Sample Mean & Variance.\n",
    "\n",
    "# Generate random sample\n",
    "mean = 5\n",
    "sample = np.random.poisson(mean, 1000)\n",
    "\n",
    "# Calculate sample mean and variance\n",
    "sample_mean = np.mean(sample)\n",
    "sample_variance = np.var(sample)\n",
    "\n",
    "print(\"Sample Mean:\", sample_mean)\n",
    "print(\"Sample Variance:\", sample_variance)\n"
   ]
  },
  {
   "cell_type": "code",
   "execution_count": null,
   "id": "12869176-df7c-4ab4-a287-f02a0ee1f986",
   "metadata": {},
   "outputs": [],
   "source": [
    "Q9. Relationship Between Mean and Variance in Binomial and Poisson Distribution.\n",
    "\n",
    "Binomial Distribution:\n",
    "Mean = 𝑛 ⋅ 𝑝 \n",
    "Variance = 𝑛 ⋅ 𝑝 ⋅ (1 − 𝑝) =n⋅p⋅(1−p)\n",
    "\n",
    "Poisson Distribution:\n",
    "Mean = 𝜆\n",
    "Variance = 𝜆\n",
    "\n",
    "In Poisson distribution, the mean and variance are equal."
   ]
  },
  {
   "cell_type": "code",
   "execution_count": null,
   "id": "2b2a661e-c123-4649-b4d0-55797aa458fa",
   "metadata": {},
   "outputs": [],
   "source": [
    "Q10. In Normal Distribution, Where Does the Least Frequent Data Appear?\n",
    "In a normal distribution, the least frequent data points appear in the tails of the distribution, far from the mean. Specifically, data points more than 3 standard deviations away from the mean are considered rare or least frequent."
   ]
  }
 ],
 "metadata": {
  "kernelspec": {
   "display_name": "Python 3 (ipykernel)",
   "language": "python",
   "name": "python3"
  },
  "language_info": {
   "codemirror_mode": {
    "name": "ipython",
    "version": 3
   },
   "file_extension": ".py",
   "mimetype": "text/x-python",
   "name": "python",
   "nbconvert_exporter": "python",
   "pygments_lexer": "ipython3",
   "version": "3.10.8"
  }
 },
 "nbformat": 4,
 "nbformat_minor": 5
}
