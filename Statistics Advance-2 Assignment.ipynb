{
 "cells": [
  {
   "cell_type": "code",
   "execution_count": 4,
   "id": "e39111b2-297e-438b-8e01-aed52f66eb51",
   "metadata": {},
   "outputs": [],
   "source": [
    "from PIL import Image\n",
    "from IPython.display import display\n",
    "    \n",
    "img = Image.open('Screenshot 2024-09-08 004730.png')  \n",
    "img1 = Image.open('Screenshot 2024-09-08 005434.png')"
   ]
  },
  {
   "cell_type": "code",
   "execution_count": null,
   "id": "1d7965b4-eb01-4ed2-a2c6-6575109b7f8f",
   "metadata": {},
   "outputs": [],
   "source": [
    "Q1. What are the Probability Mass Function (PMF) and Probability Density Function (PDF)? Explain with an example.\n",
    "PMF (Probability Mass Function): It is used for discrete random variables. It gives the probability that a discrete random variable is exactly equal to a certain value.\n",
    "\n",
    "Example: If we toss a fair coin, the probability of getting heads (or tails) is 0.5. For the random variable X representing the outcome of heads:\n",
    "    \n",
    "P(X=1)=0.5,P(X=0)=0.5\n",
    "\n",
    "PDF (Probability Density Function): It is used for continuous random variables. It represents the likelihood of the variable taking a particular value, but for continuous variables, the probability at any specific point is zero. The area under the curve of the PDF over a given interval gives the probability that the variable lies within that interval.\n",
    "\n",
    "Example: For a normal distribution with mean 0 and standard deviation 1, the PDF at a point \n",
    "𝑥 is given by:"
   ]
  },
  {
   "cell_type": "code",
   "execution_count": 3,
   "id": "c7b4486f-b77a-4ccc-88c1-5a50298d62b1",
   "metadata": {},
   "outputs": [
    {
     "data": {
      "image/png": "[encoded data removed]",
      "text/plain": [
       "<PIL.PngImagePlugin.PngImageFile image mode=RGBA size=220x87>"
      ]
     },
     "execution_count": 3,
     "metadata": {},
     "output_type": "execute_result"
    }
   ],
   "source": [
    "img"
   ]
  },
  {
   "cell_type": "code",
   "execution_count": null,
   "id": "a9c31d36-5552-4977-b8f1-31770a7e0d27",
   "metadata": {},
   "outputs": [],
   "source": [
    "Q2. What is Cumulative Density Function (CDF)? Explain with an example. Why CDF is used?\n",
    "\n",
    "CDF (Cumulative Distribution Function): It gives the probability that a random variable \n",
    "𝑋 takes a value less than or equal to a certain value 𝑥.\n",
    "It is the cumulative sum of the probabilities for all values less than or equal to 𝑥.\n",
    "\n",
    "Example: In a normal distribution with mean 0 and standard deviation 1, the CDF at \n",
    "𝑥 = 1\n",
    "x=1 tells us the probability that a random variable 𝑋 will have a value less than or equal to 1.\n",
    "CDF is used because it helps in computing the probability of a random variable falling within a certain range and in comparing probabilities across distributions."
   ]
  },
  {
   "cell_type": "code",
   "execution_count": null,
   "id": "854394eb-d2c6-4f17-a27f-75c208e33cf9",
   "metadata": {},
   "outputs": [],
   "source": [
    "Q3. Examples of Situations where Normal Distribution Might Be Used as a Model\n",
    "Height of individuals: Human heights tend to follow a normal distribution, with most people being of average height and fewer people being very tall or very short.\n",
    "Test scores: Scores from standardized tests often approximate a normal distribution.\n",
    "Measurement errors: Errors in measurements frequently follow a normal distribution.\n",
    "The parameters of the normal distribution:\n",
    "\n",
    "Mean (μ): Determines the center or peak of the distribution.\n",
    "Standard deviation (𝜎): Determines the spread or width of the distribution. A larger 𝜎 means the distribution is more spread out."
   ]
  },
  {
   "cell_type": "code",
   "execution_count": null,
   "id": "24011ec7-3a14-404d-a935-5a5de270045e",
   "metadata": {},
   "outputs": [],
   "source": [
    "Q4. Importance of Normal Distribution and Real-life Examples\n",
    "The normal distribution is important because many natural phenomena are approximately normally distributed, and it has desirable properties in statistical inference.\n",
    "\n",
    "Real-life examples:\n",
    "\n",
    "IQ scores: IQ scores are designed to follow a normal distribution with a mean of 100 and a standard deviation of 15.\n",
    "Blood pressure: Blood pressure measurements in a population are often normally distributed."
   ]
  },
  {
   "cell_type": "code",
   "execution_count": null,
   "id": "eb8c5d5a-4f6d-4c91-8443-14abbad74a2d",
   "metadata": {},
   "outputs": [],
   "source": [
    "Q5. What is Bernoulli Distribution? Give an Example. Difference between Bernoulli Distribution and Binomial Distribution\n",
    "Bernoulli Distribution: It models a single trial that has two possible outcomes: success (with probability p) and failure (with probability \n",
    "1 − p).\n",
    "\n",
    "Example: Tossing a coin once. The outcome can either be heads (success) or tails (failure).\n",
    "\n",
    "Difference:\n",
    "\n",
    "Bernoulli Distribution: Only one trial.\n",
    "Binomial Distribution: A sequence of n independent Bernoulli trials."
   ]
  },
  {
   "cell_type": "code",
   "execution_count": null,
   "id": "c0cd42db-ffc9-42eb-8126-6b11752d7e2d",
   "metadata": {},
   "outputs": [],
   "source": [
    "Q6. Probability Calculation for a Normally Distributed Dataset\n",
    "Given a dataset with mean \n",
    "𝜇 = 50 and standard deviation \n",
    "𝜎 = 10\n",
    "we want to find the probability that a randomly selected observation is greater than 60."
   ]
  },
  {
   "cell_type": "code",
   "execution_count": 5,
   "id": "a9789474-a11d-413d-ac38-65d6282e8457",
   "metadata": {},
   "outputs": [
    {
     "data": {
      "image/png": "[encoded data removed]",
      "text/plain": [
       "<PIL.PngImagePlugin.PngImageFile image mode=RGBA size=734x195>"
      ]
     },
     "execution_count": 5,
     "metadata": {},
     "output_type": "execute_result"
    }
   ],
   "source": [
    "img1"
   ]
  },
  {
   "cell_type": "code",
   "execution_count": null,
   "id": "831e3aaf-1778-41dc-96db-7b989940b2ea",
   "metadata": {},
   "outputs": [],
   "source": [
    "Q7. Explain Uniform Distribution with an Example\n",
    "Uniform Distribution: In a uniform distribution, all outcomes are equally likely within a certain range.\n",
    "\n",
    "Example: Rolling a fair six-sided die. Each face (1, 2, 3, 4, 5, 6) has an equal probability of 1/6."
   ]
  },
  {
   "cell_type": "code",
   "execution_count": null,
   "id": "6d6cfc5f-48d2-4da2-bf35-647108f3854e",
   "metadata": {},
   "outputs": [],
   "source": [
    "Q8. What is the Z-Score? Importance of the Z-Score\n",
    "Z-Score: The z-score represents the number of standard deviations a data point is from the mean. It helps standardize data, making different datasets comparable.\n",
    "\n",
    "Importance:\n",
    "\n",
    "It helps in comparing values from different distributions.\n",
    "It is used in hypothesis testing and in calculating probabilities for normal distributions."
   ]
  },
  {
   "cell_type": "code",
   "execution_count": null,
   "id": "6c68d646-6c27-418a-bd17-990ab3bb66fb",
   "metadata": {},
   "outputs": [],
   "source": [
    "Q9. What is Central Limit Theorem? Significance of the Central Limit Theorem\n",
    "Central Limit Theorem (CLT): The theorem states that, given a sufficiently large sample size, the sampling distribution of the sample mean will be approximately normal, regardless of the population's distribution.\n",
    "\n",
    "Significance:\n",
    "\n",
    "It allows for statistical inference (confidence intervals, hypothesis testing) to be applied to non-normal distributions, as the sample mean approximates normality."
   ]
  },
  {
   "cell_type": "code",
   "execution_count": null,
   "id": "0de07825-2c81-4ea6-96a8-4575edc47910",
   "metadata": {},
   "outputs": [],
   "source": [
    "Q10. Assumptions of the Central Limit Theorem\n",
    "Independence: The sampled observations must be independent.\n",
    "Sample size: The sample size should be sufficiently large (typically \n",
    "𝑛 > 30).\n",
    "Identically distributed: The population from which the sample is drawn should have the same distribution."
   ]
  }
 ],
 "metadata": {
  "kernelspec": {
   "display_name": "Python 3 (ipykernel)",
   "language": "python",
   "name": "python3"
  },
  "language_info": {
   "codemirror_mode": {
    "name": "ipython",
    "version": 3
   },
   "file_extension": ".py",
   "mimetype": "text/x-python",
   "name": "python",
   "nbconvert_exporter": "python",
   "pygments_lexer": "ipython3",
   "version": "3.10.8"
  }
 },
 "nbformat": 4,
 "nbformat_minor": 5
}
