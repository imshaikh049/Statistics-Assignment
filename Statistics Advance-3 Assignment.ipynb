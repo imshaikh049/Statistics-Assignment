{
 "cells": [
  {
   "cell_type": "code",
   "execution_count": 11,
   "id": "7685adec-ff72-42dd-a972-c75bade617a4",
   "metadata": {},
   "outputs": [],
   "source": [
    "from PIL import Image\n",
    "from IPython.display import display\n",
    "\n",
    "img = Image.open('Screenshot 2024-09-08 011433.png')\n",
    "img1 = Image.open('Screenshot 2024-09-08 011716.png')\n",
    "img2 = Image.open('Screenshot 2024-09-08 012215.png')\n",
    "img3 = Image.open('Screenshot 2024-09-08 012448.png')\n",
    "img4 = Image.open('Screenshot 2024-09-08 012757.png')"
   ]
  },
  {
   "cell_type": "code",
   "execution_count": null,
   "id": "93703501-b4af-4f79-83f2-f877db942d1d",
   "metadata": {},
   "outputs": [],
   "source": [
    "Q1. What is Estimation Statistics? Explain point estimate and interval estimate.\n",
    "Estimation statistics involves inferring population parameters based on sample data. It provides estimates for unknown population values.\n",
    "\n",
    "Point Estimate: A single value estimate for a population parameter (e.g., sample mean used to estimate population mean).\n",
    "Interval Estimate: A range of values within which the population parameter is expected to lie, with a certain level of confidence (e.g., 95% confidence interval)."
   ]
  },
  {
   "cell_type": "code",
   "execution_count": null,
   "id": "6e5cde0b-9727-4c9d-ac60-4fad736a3c04",
   "metadata": {},
   "outputs": [],
   "source": [
    "Q2. Python function to estimate the population mean using a sample mean and standard deviation:\n",
    "    \n",
    "import math\n",
    "\n",
    "def estimate_population_mean(sample_mean, sample_std, sample_size, confidence_level):\n",
    "    z_value = 1.96  # For 95% confidence level\n",
    "    margin_of_error = z_value * (sample_std / math.sqrt(sample_size))\n",
    "    \n",
    "    lower_bound = sample_mean - margin_of_error\n",
    "    upper_bound = sample_mean + margin_of_error\n",
    "    \n",
    "    return lower_bound, upper_bound\n",
    "\n",
    "# Example usage\n",
    "estimate_population_mean(500, 50, 50, 0.95)"
   ]
  },
  {
   "cell_type": "code",
   "execution_count": null,
   "id": "b112870e-b4ba-4b9a-86f5-46a767c90d82",
   "metadata": {},
   "outputs": [],
   "source": [
    "Q3. What is Hypothesis Testing? Why is it used? State the importance of Hypothesis Testing.\n",
    "Hypothesis Testing: A statistical method used to make decisions about a population parameter based on sample data.\n",
    "Purpose: It helps to determine whether to accept or reject a specific assumption (hypothesis) about a population.\n",
    "Importance:\n",
    "It provides an objective framework for testing assumptions.\n",
    "It supports decision-making based on data.\n",
    "Helps in validating claims or making inferences about populations."
   ]
  },
  {
   "cell_type": "code",
   "execution_count": null,
   "id": "7769decf-cd8e-4c61-a403-72665ecf6e57",
   "metadata": {},
   "outputs": [],
   "source": [
    "Q4. Hypothesis Example:\n",
    "    \n",
    "Null Hypothesis (H1): The average weight of male college students is equal to the average weight of female college students.\n",
    "Alternative Hypothesis (H1): The average weight of male college students is greater than the average weight of female college students."
   ]
  },
  {
   "cell_type": "code",
   "execution_count": null,
   "id": "b88a2913-8184-4c7a-9b46-f8ff6cb23acf",
   "metadata": {},
   "outputs": [],
   "source": [
    "Q5. Python script for hypothesis testing on the difference between two population means:\n",
    "    \n",
    "from scipy import stats\n",
    "\n",
    "def two_sample_ttest(sample1, sample2):\n",
    "    t_stat, p_value = stats.ttest_ind(sample1, sample2)\n",
    "    return t_stat, p_value\n",
    "\n",
    "# Example usage\n",
    "sample1 = [70, 72, 68, 75, 74]  # Male weights\n",
    "sample2 = [65, 66, 64, 63, 67]  # Female weights\n",
    "\n",
    "two_sample_ttest(sample1, sample2)"
   ]
  },
  {
   "cell_type": "code",
   "execution_count": null,
   "id": "600cbd82-1c7d-42e2-b328-f6ea7f02d84c",
   "metadata": {},
   "outputs": [],
   "source": [
    "Q6. What is a Null and Alternative Hypothesis? Give examples.\n",
    "\n",
    "Null Hypothesis (𝐻0): The default assumption, usually stating no effect or no difference.\n",
    "Example: \n",
    " : The mean height of students in two classes is the same.\n",
    "Alternative Hypothesis (𝐻1): Contradicts the null hypothesis, suggesting an effect or difference.\n",
    "Example: \n",
    " : The mean height of students in two classes is different."
   ]
  },
  {
   "cell_type": "code",
   "execution_count": null,
   "id": "22bb6416-6578-4568-9ac0-15c8a9d6f061",
   "metadata": {},
   "outputs": [],
   "source": [
    "Q7. Steps in Hypothesis Testing:\n",
    "\n",
    "State the null and alternative hypotheses.\n",
    "Choose a significance level (𝛼).\n",
    "Collect sample data and calculate the test statistic.\n",
    "Determine the p-value or critical value.\n",
    "Compare the p-value with the significance level and make a decision (reject or fail to reject 𝐻0)."
   ]
  },
  {
   "cell_type": "code",
   "execution_count": null,
   "id": "8c129f37-fd9c-4200-ba64-d19392cbcc46",
   "metadata": {},
   "outputs": [],
   "source": [
    "Q8. Define p-value and explain its significance in hypothesis testing.\n",
    "\n",
    "p-value: The probability of obtaining a result as extreme as the one observed, assuming the null hypothesis is true.\n",
    "Significance:\n",
    "A low p-value (𝑝<𝛼) suggests that the observed data is unlikely under the null hypothesis, leading to rejection of \n",
    "𝐻0."
   ]
  },
  {
   "cell_type": "code",
   "execution_count": null,
   "id": "34ad1e65-d31a-4207-95b6-5bfbd72a4686",
   "metadata": {},
   "outputs": [],
   "source": [
    "Q9. Generate a Student's t-distribution plot using Python:\n",
    "\n",
    "import numpy as np\n",
    "import matplotlib.pyplot as plt\n",
    "from scipy.stats import t\n",
    "\n",
    "df = 10  # degrees of freedom\n",
    "x = np.linspace(-4, 4, 1000)\n",
    "y = t.pdf(x, df)\n",
    "\n",
    "plt.plot(x, y, label='t-distribution, df=10')\n",
    "plt.title(\"Student's t-distribution with df=10\")\n",
    "plt.xlabel('t value')\n",
    "plt.ylabel('Probability Density')\n",
    "plt.legend()\n",
    "plt.show()"
   ]
  },
  {
   "cell_type": "code",
   "execution_count": null,
   "id": "018a41b3-409a-4474-9887-e3afea2186c6",
   "metadata": {},
   "outputs": [],
   "source": [
    "Q10. Python program to calculate two-sample t-test for independent samples:\n",
    "    \n",
    "from scipy import stats\n",
    "\n",
    "def two_sample_ttest_independent(sample1, sample2):\n",
    "    t_stat, p_value = stats.ttest_ind(sample1, sample2)\n",
    "    return t_stat, p_value\n",
    "\n",
    "# Example usage\n",
    "sample1 = [80, 82, 85, 88, 90]\n",
    "sample2 = [78, 79, 81, 83, 85]\n",
    "\n",
    "two_sample_ttest_independent(sample1, sample2)"
   ]
  },
  {
   "cell_type": "code",
   "execution_count": null,
   "id": "0eb8aea0-57f9-4244-8b7a-7273e652c6d6",
   "metadata": {},
   "outputs": [],
   "source": [
    "Q11. What is Student’s t-distribution? When to use the t-distribution?\n",
    "\n",
    "Student’s t-distribution: A probability distribution used when the sample size is small, and the population standard deviation is unknown.\n",
    "Use: When the sample size is less than 30, or the population standard deviation is unknown."
   ]
  },
  {
   "cell_type": "code",
   "execution_count": null,
   "id": "c3a75712-13d4-42cf-a61a-601dd529f09c",
   "metadata": {},
   "outputs": [],
   "source": [
    "Q12. What is t-statistic? Formula for t-statistic.\n",
    "t-statistic: A ratio used in hypothesis testing to compare the difference between the sample mean and the population mean.\n",
    "Formula:"
   ]
  },
  {
   "cell_type": "code",
   "execution_count": 2,
   "id": "a575130f-271d-4e12-a283-fc0e19774cbe",
   "metadata": {},
   "outputs": [
    {
     "data": {
      "image/png": "[encoded data removed]",
      "text/plain": [
       "<PIL.PngImagePlugin.PngImageFile image mode=RGBA size=710x135>"
      ]
     },
     "execution_count": 2,
     "metadata": {},
     "output_type": "execute_result"
    }
   ],
   "source": [
    "img"
   ]
  },
  {
   "cell_type": "code",
   "execution_count": null,
   "id": "8e4931a4-b3ed-4ac9-b840-0149ac3e4a40",
   "metadata": {},
   "outputs": [],
   "source": [
    "Q13. Estimating population mean revenue with a 95% confidence interval:\n",
    "Given:\n",
    "Sample mean = $500\n",
    "Standard deviation = $50\n",
    "Sample size = 50\n",
    "Confidence level = 95% (z-value = 1.96)"
   ]
  },
  {
   "cell_type": "code",
   "execution_count": 4,
   "id": "45435f39-d61d-4eec-8cdc-8f9aa36fd7a0",
   "metadata": {},
   "outputs": [
    {
     "data": {
      "image/png": "[encoded data removed]",
      "text/plain": [
       "<PIL.PngImagePlugin.PngImageFile image mode=RGBA size=563x111>"
      ]
     },
     "execution_count": 4,
     "metadata": {},
     "output_type": "execute_result"
    }
   ],
   "source": [
    "img1"
   ]
  },
  {
   "cell_type": "code",
   "execution_count": null,
   "id": "05a900d7-9c14-453e-9762-ccf4e141d2a3",
   "metadata": {},
   "outputs": [],
   "source": [
    "Q14. Hypothesis test on blood pressure reduction:\n",
    "\n",
    "Null Hypothesis (H0): The mean reduction is 10 mmHg.\n",
    "Sample mean: 8 mmHg\n",
    "Standard deviation: 3 mmHg\n",
    "Sample size: 100\n",
    "Significance level: 0.05"
   ]
  },
  {
   "cell_type": "code",
   "execution_count": 7,
   "id": "625b874f-3937-44a4-81d8-ee185b09a551",
   "metadata": {},
   "outputs": [
    {
     "data": {
      "image/png": "[encoded data removed]",
      "text/plain": [
       "<PIL.PngImagePlugin.PngImageFile image mode=RGBA size=481x156>"
      ]
     },
     "execution_count": 7,
     "metadata": {},
     "output_type": "execute_result"
    }
   ],
   "source": [
    "img2"
   ]
  },
  {
   "cell_type": "code",
   "execution_count": null,
   "id": "4a0602cd-9ff5-4815-a0b5-a43a44f90ee2",
   "metadata": {},
   "outputs": [],
   "source": [
    "Q15. Hypothesis test for product weight:\n",
    "\n",
    "Null Hypothesis (𝐻0): The mean weight is 5 pounds.\n",
    "Sample mean: 4.8 pounds\n",
    "Standard deviation: 0.5 pounds\n",
    "Sample size: 25\n",
    "Significance level: 0.01"
   ]
  },
  {
   "cell_type": "code",
   "execution_count": 9,
   "id": "ec0f4e79-3a34-4001-b314-d8aa07e9253e",
   "metadata": {},
   "outputs": [
    {
     "data": {
      "image/png": "[encoded data removed]",
      "text/plain": [
       "<PIL.PngImagePlugin.PngImageFile image mode=RGBA size=595x147>"
      ]
     },
     "execution_count": 9,
     "metadata": {},
     "output_type": "execute_result"
    }
   ],
   "source": [
    "img3"
   ]
  },
  {
   "cell_type": "code",
   "execution_count": null,
   "id": "aad14843-3d8a-4c04-990b-da7c46b783ce",
   "metadata": {},
   "outputs": [],
   "source": [
    "Q16. Two-sample t-test for student scores:\n",
    "\n",
    "Null Hypothesis (𝐻0): The population means are equal.\n",
    "Sample 1:𝑛1=30n1, mean = 80, std = 10\n",
    "Sample 2:𝑛2=40n2, mean = 75, std = 8\n",
    "Significance level: 0.01\n",
    "Calculate the t-statistic for independent samples using the two-sample t-test formula."
   ]
  },
  {
   "cell_type": "code",
   "execution_count": null,
   "id": "8e14f4f3-989b-43c5-b5df-96c780af8bc9",
   "metadata": {},
   "outputs": [],
   "source": [
    "Q17. Estimating population mean with a 99% confidence interval for ad views:\n",
    "Given:\n",
    "Sample mean = 4\n",
    "Standard deviation = 1.5\n",
    "Sample size = 50\n",
    "Confidence level = 99% (z-value = 2.576)"
   ]
  },
  {
   "cell_type": "code",
   "execution_count": 12,
   "id": "15c68d60-f1ed-46ac-9782-941fb82b58c2",
   "metadata": {},
   "outputs": [
    {
     "data": {
      "image/png": "[encoded data removed]",
      "text/plain": [
       "<PIL.PngImagePlugin.PngImageFile image mode=RGBA size=579x100>"
      ]
     },
     "execution_count": 12,
     "metadata": {},
     "output_type": "execute_result"
    }
   ],
   "source": [
    "img4"
   ]
  },
  {
   "cell_type": "code",
   "execution_count": null,
   "id": "25d37b4f-f277-4dae-9ba9-2b8734871789",
   "metadata": {},
   "outputs": [],
   "source": []
  },
  {
   "cell_type": "code",
   "execution_count": null,
   "id": "aa4cce10-f39f-467e-b981-553680b74030",
   "metadata": {},
   "outputs": [],
   "source": []
  },
  {
   "cell_type": "code",
   "execution_count": null,
   "id": "a5300d15-f4f5-4370-a201-069d76cf1833",
   "metadata": {},
   "outputs": [],
   "source": []
  }
 ],
 "metadata": {
  "kernelspec": {
   "display_name": "Python 3 (ipykernel)",
   "language": "python",
   "name": "python3"
  },
  "language_info": {
   "codemirror_mode": {
    "name": "ipython",
    "version": 3
   },
   "file_extension": ".py",
   "mimetype": "text/x-python",
   "name": "python",
   "nbconvert_exporter": "python",
   "pygments_lexer": "ipython3",
   "version": "3.10.8"
  }
 },
 "nbformat": 4,
 "nbformat_minor": 5
}
