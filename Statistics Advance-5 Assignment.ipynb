{
 "cells": [
  {
   "cell_type": "code",
   "execution_count": 1,
   "id": "9a210183-33b2-417d-a507-e109e6bc037b",
   "metadata": {},
   "outputs": [],
   "source": [
    "from PIL import Image\n",
    "from IPython.display import display\n",
    "\n",
    "img = Image.open('Screenshot 2024-09-08 021244.png')"
   ]
  },
  {
   "cell_type": "code",
   "execution_count": null,
   "id": "c729719c-6fec-4d0e-abea-9c8a2147d97c",
   "metadata": {},
   "outputs": [],
   "source": [
    "Q1. Calculate the 95% confidence interval for a sample of data with a mean of 50 and a standard deviation of 5 using Python. Interpret the results.\n"
   ]
  },
  {
   "cell_type": "code",
   "execution_count": 2,
   "id": "b9afcc02-408e-4d77-b531-05c49a17fe68",
   "metadata": {},
   "outputs": [
    {
     "data": {
      "image/png": "[encoded data removed]",
      "text/plain": [
       "<PIL.PngImagePlugin.PngImageFile image mode=RGBA size=692x211>"
      ]
     },
     "execution_count": 2,
     "metadata": {},
     "output_type": "execute_result"
    }
   ],
   "source": [
    "img"
   ]
  },
  {
   "cell_type": "code",
   "execution_count": 4,
   "id": "b8e5b77e-9c8b-4f75-ac65-5b29799264ba",
   "metadata": {},
   "outputs": [
    {
     "data": {
      "text/plain": [
       "(48.210805856282846, 51.789194143717154)"
      ]
     },
     "execution_count": 4,
     "metadata": {},
     "output_type": "execute_result"
    }
   ],
   "source": [
    "import scipy.stats as stats\n",
    "import numpy as np\n",
    "\n",
    "# Sample data\n",
    "mean = 50\n",
    "std_dev = 5\n",
    "sample_size = 30\n",
    "\n",
    "# 95% confidence level\n",
    "z_critical = stats.norm.ppf(0.975)  # for 95% confidence\n",
    "\n",
    "# Calculate margin of error\n",
    "margin_of_error = z_critical * (std_dev / np.sqrt(sample_size))\n",
    "\n",
    "# Calculate the confidence interval\n",
    "confidence_interval = (mean - margin_of_error, mean + margin_of_error)\n",
    "confidence_interval\n",
    "\n",
    "# Interpretation: The result gives the range of values within which the true population mean is likely to fall with 95% confidence."
   ]
  },
  {
   "cell_type": "code",
   "execution_count": null,
   "id": "f0020347-0110-4412-a87b-3536f2a7a10a",
   "metadata": {},
   "outputs": [],
   "source": [
    "Q2. Conduct a chi-square goodness of fit test for the distribution of M&Ms colors using Python.\n",
    "\n",
    "import scipy.stats as stats\n",
    "\n",
    "# Observed frequencies (example data)\n",
    "observed = [25, 30, 25, 10, 10, 20]  # Blue, Orange, Green, Yellow, Red, Brown\n",
    "\n",
    "# Expected frequencies based on given distribution\n",
    "expected = [20, 20, 20, 10, 10, 20]\n",
    "\n",
    "# Perform the chi-square goodness of fit test\n",
    "chi2_stat, p_val = stats.chisquare(f_obs=observed, f_exp=expected)\n",
    "\n",
    "chi2_stat, p_val\n",
    "\n",
    "If the p-value is less than 0.05, you reject the null hypothesis that the observed distribution matches the expected distribution."
   ]
  },
  {
   "cell_type": "code",
   "execution_count": null,
   "id": "61006752-1e78-4d92-b185-1af8841efcfc",
   "metadata": {},
   "outputs": [],
   "source": [
    "Q3. Use Python to calculate the chi-square statistic and p-value for a contingency table.\n",
    "\n",
    "import numpy as np\n",
    "from scipy.stats import chi2_contingency\n",
    "\n",
    "# Example contingency table\n",
    "table = np.array([[50, 30], [20, 40]])\n",
    "\n",
    "# Chi-square test\n",
    "chi2_stat, p_val, dof, expected = chi2_contingency(table)\n",
    "\n",
    "chi2_stat, p_val\n",
    "\n",
    "Interpretation: The result gives the chi-square statistic and p-value. A small p-value (less than 0.05) indicates a significant association between the two variables."
   ]
  },
  {
   "cell_type": "code",
   "execution_count": null,
   "id": "4aad26d2-b030-4d6a-b45a-14d58e2067d2",
   "metadata": {},
   "outputs": [],
   "source": [
    "Q4. Calculate the 95% confidence interval for the proportion of smokers using Python.\n",
    "\n",
    "import statsmodels.stats.proportion as smp\n",
    "\n",
    "# Sample data\n",
    "sample_size = 500\n",
    "smokers = 60\n",
    "\n",
    "# Confidence interval for the proportion\n",
    "conf_int = smp.proportion_confint(smokers, sample_size, alpha=0.05)\n",
    "conf_int\n",
    "\n",
    "Interpretation: The result gives the range of values within which the true proportion of smokers in the population is likely to fall with 95% confidence."
   ]
  },
  {
   "cell_type": "code",
   "execution_count": null,
   "id": "b1eae9e8-aff4-4d0e-9374-cb9c25d67329",
   "metadata": {},
   "outputs": [],
   "source": [
    "Q5. Calculate the 90% confidence interval for a sample of data with a mean of 75 and a standard deviation of 12.\n",
    "\n",
    "# Given data\n",
    "mean = 75\n",
    "std_dev = 12\n",
    "sample_size = 30\n",
    "\n",
    "# 90% confidence level\n",
    "z_critical = stats.norm.ppf(0.95)  # for 90% confidence\n",
    "\n",
    "# Calculate margin of error\n",
    "margin_of_error = z_critical * (std_dev / np.sqrt(sample_size))\n",
    "\n",
    "# Calculate the confidence interval\n",
    "confidence_interval = (mean - margin_of_error, mean + margin_of_error)\n",
    "confidence_interval\n",
    "\n",
    "Interpretation: The result gives the 90% confidence interval for the true population mean."
   ]
  },
  {
   "cell_type": "code",
   "execution_count": null,
   "id": "3b857c47-e361-4b27-a333-dffadde5c87d",
   "metadata": {},
   "outputs": [],
   "source": [
    "Q6. Plot the chi-square distribution with 10 degrees of freedom and shade the area corresponding to a chi-square statistic of 15.\n",
    "\n",
    "import matplotlib.pyplot as plt\n",
    "import numpy as np\n",
    "from scipy.stats import chi2\n",
    "\n",
    "# Degrees of freedom\n",
    "df = 10\n",
    "\n",
    "# Plotting chi-square distribution\n",
    "x = np.linspace(0, 30, 1000)\n",
    "y = chi2.pdf(x, df)\n",
    "\n",
    "plt.plot(x, y, label='Chi-Square Distribution df=10')\n",
    "plt.fill_between(x, y, where=(x >= 15), color='lightblue')\n",
    "plt.title('Chi-Square Distribution with 10 Degrees of Freedom')\n",
    "plt.xlabel('Chi-Square Statistic')\n",
    "plt.ylabel('Probability Density')\n",
    "plt.legend()\n",
    "plt.show()"
   ]
  },
  {
   "cell_type": "code",
   "execution_count": null,
   "id": "7ff25c5d-e3a4-4783-abd1-628eca0457cb",
   "metadata": {},
   "outputs": [],
   "source": []
  }
 ],
 "metadata": {
  "kernelspec": {
   "display_name": "Python 3 (ipykernel)",
   "language": "python",
   "name": "python3"
  },
  "language_info": {
   "codemirror_mode": {
    "name": "ipython",
    "version": 3
   },
   "file_extension": ".py",
   "mimetype": "text/x-python",
   "name": "python",
   "nbconvert_exporter": "python",
   "pygments_lexer": "ipython3",
   "version": "3.10.8"
  }
 },
 "nbformat": 4,
 "nbformat_minor": 5
}
