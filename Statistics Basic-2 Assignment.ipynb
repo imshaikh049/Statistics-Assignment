{
 "cells": [
  {
   "cell_type": "code",
   "execution_count": null,
   "id": "f198d781-5c16-45e9-adb3-6617047c94cf",
   "metadata": {},
   "outputs": [],
   "source": [
    "What are the three measures of central tendency?\n",
    "\n",
    "Mean\n",
    "Median\n",
    "Mode\n",
    "These measures help summarize a dataset by identifying the central or typical value."
   ]
  },
  {
   "cell_type": "code",
   "execution_count": null,
   "id": "60a3a9aa-2cc8-46d2-b399-79801c080382",
   "metadata": {},
   "outputs": [],
   "source": [
    "What is the difference between the mean, median, and mode? How are they used to measure the central tendency of a dataset?\n",
    "\n",
    "Mean: The average of all values, calculated as the sum of all values divided by the number of values. It is sensitive to outliers.\n",
    "Median: The middle value when the data is sorted in ascending order. If there is an even number of observations, the median is the average of the two middle numbers. It is less affected by outliers.\n",
    "Mode: The value that occurs most frequently in the dataset. A dataset may have more than one mode or none at all. It is useful for categorical data.\n",
    "These measures are used to represent the central point of a dataset, with the mean being the most commonly used, the median providing a robust measure in the presence of outliers, and the mode highlighting the most frequent value."
   ]
  },
  {
   "cell_type": "code",
   "execution_count": null,
   "id": "4f7a98d2-0a2d-43df-a78b-70fbe60f3c84",
   "metadata": {},
   "outputs": [],
   "source": [
    "Measure the three measures of central tendency for the given height data:\n",
    "\n",
    "Data: [178, 177, 176, 177, 178.2, 178, 175, 179, 180, 175, 178.9, 176.2, 177, 172.5, 178, 176.5]\n",
    "\n",
    "Mean\n",
    "\n",
    "Mean= \n",
    "number of values\n",
    "∑values\n",
    "​\n",
    " = \n",
    "16\n",
    "178+177+176+177+178.2+178+175+179+180+175+178.9+176.2+177+172.5+178+176.5\n",
    "​\n",
    " ≈177.54\n",
    "Median: Sort the data: [172.5, 175, 175, 176, 176.2, 176.5, 177, 177, 177, 178, 178, 178, 178.2, 178.9, 179, 180] The median (middle value) is between the 8th and 9th values: (177 + 177) / 2 = 177\n",
    "Mode: The most frequent value is 177."
   ]
  },
  {
   "cell_type": "code",
   "execution_count": null,
   "id": "5417b7c9-2777-41ed-8c90-c838a6dbe001",
   "metadata": {},
   "outputs": [],
   "source": [
    "Find the standard deviation for the given data:\n",
    "\n",
    "Data: [178, 177, 176, 177, 178.2, 178, 175, 179, 180, 175, 178.9, 176.2, 177, 172.5, 178, 176.5]\n",
    "\n",
    "Calculate the mean (as found above): \n",
    "≈\n",
    "177.54\n",
    "≈177.54\n",
    "Calculate the variance:\n",
    "Variance\n",
    "=\n",
    "∑\n",
    "(\n",
    "value\n",
    "−\n",
    "mean\n",
    ")\n",
    "2\n",
    "number of values\n",
    "−\n",
    "1\n",
    "Variance= \n",
    "number of values−1\n",
    "∑(value−mean) \n",
    "2\n",
    " \n",
    "​\n",
    " \n",
    "Variance: \n",
    "≈\n",
    "4.67\n",
    "≈4.67\n",
    "Standard deviation is the square root of variance:\n",
    "Standard deviation\n",
    "=\n",
    "4.67\n",
    "≈\n",
    "2.16\n",
    "Standard deviation= \n",
    "4.67\n",
    "​\n",
    " ≈2.16"
   ]
  },
  {
   "cell_type": "code",
   "execution_count": null,
   "id": "2295090a-ea01-495a-810b-01586c7b063c",
   "metadata": {},
   "outputs": [],
   "source": [
    "How are measures of dispersion such as range, variance, and standard deviation used to describe the spread of a dataset? Provide an example.\n",
    "\n",
    "Range: The difference between the maximum and minimum values. It gives a basic idea of the spread but is affected by outliers. Example: For data [1, 2, 3, 4, 5], the range is \n",
    "5\n",
    "−\n",
    "1\n",
    "=\n",
    "4\n",
    "5−1=4.\n",
    "Variance: Measures how much the values in a dataset differ from the mean. It is used to understand the variability in the data. Example: For data [1, 2, 3], variance helps quantify how much each value deviates from the average.\n",
    "Standard deviation: The square root of variance, providing a measure of spread in the same units as the data. It helps in understanding how dispersed the data points are around the mean. Example: If the standard deviation of test scores is high, students' scores are widely spread out."
   ]
  },
  {
   "cell_type": "code",
   "execution_count": null,
   "id": "738ce434-ba9c-438f-b631-9bfddac417e2",
   "metadata": {},
   "outputs": [],
   "source": [
    "What is a Venn diagram?\n",
    "\n",
    "A Venn diagram is a visual representation of the relationships between different sets. Overlapping circles represent the sets, and the overlaps show common elements.\n",
    "\n"
   ]
  },
  {
   "cell_type": "code",
   "execution_count": null,
   "id": "9132d69e-7622-4b12-86f8-2c6e8396cf70",
   "metadata": {},
   "outputs": [],
   "source": [
    "For the two given sets A = {2, 3, 4, 5, 6, 7} & B = {0, 2, 6, 8, 10}. Find:\n",
    "\n",
    "(i) 𝐴∩𝐵 A∩B (Intersection): The common elements in both sets.\n",
    "𝐴∩𝐵 = {2,6} A∩B={2,6} \n",
    "(ii) 𝐴∪𝐵 A∪B (Union): All unique elements from both sets.\n",
    "𝐴∪𝐵 = {0,2,3,4,5,6,7,8,10}"
   ]
  },
  {
   "cell_type": "code",
   "execution_count": null,
   "id": "4688bbf7-763c-4347-bc5a-e510d597afbf",
   "metadata": {},
   "outputs": [],
   "source": [
    "What do you understand about skewness in data?\n",
    "\n",
    "Skewness refers to the asymmetry of the data distribution around its mean. Positive skew indicates a longer tail on the right side, while negative skew indicates a longer tail on the left side. It helps in understanding the distribution shape of the dataset."
   ]
  },
  {
   "cell_type": "code",
   "execution_count": null,
   "id": "783b8741-4921-4f5b-8a6a-244c5b82fd62",
   "metadata": {},
   "outputs": [],
   "source": [
    "If data is right-skewed, then what will be the position of the median with respect to the mean?\n",
    "\n",
    "In a right-skewed distribution, the median will be less than the mean. The mean is pulled to the right by the long tail."
   ]
  },
  {
   "cell_type": "code",
   "execution_count": null,
   "id": "d4fa3aa9-bcad-41d9-94f5-7fc86249d444",
   "metadata": {},
   "outputs": [],
   "source": [
    "Explain the difference between covariance and correlation. How are these measures used in statistical analysis?\n",
    "\n",
    "Covariance: Measures the degree to which two variables change together. It indicates direction but not the strength of the relationship. A positive covariance means the variables tend to increase together, while a negative covariance means one increases as the other decreases.\n",
    "Correlation: Measures both the strength and direction of the linear relationship between two variables. It is normalized to a range between -1 and 1, where 1 indicates a perfect positive linear relationship, -1 indicates a perfect negative linear relationship, and 0 indicates no linear relationship."
   ]
  },
  {
   "cell_type": "code",
   "execution_count": null,
   "id": "d030931e-3e55-4532-b065-1ccd3734beed",
   "metadata": {},
   "outputs": [],
   "source": [
    "What is the formula for calculating the sample mean? Provide an example calculation for a dataset.\n",
    "\n",
    "Formula:\n",
    "Sample mean=∑values/number of values\n",
    "\n",
    "Example: For data [2, 4, 6, 8]:\n",
    "Mean=2+4+6+8/4=20/4-5"
   ]
  },
  {
   "cell_type": "code",
   "execution_count": null,
   "id": "08d18842-5c18-46fb-96a2-1233a588356e",
   "metadata": {},
   "outputs": [],
   "source": [
    "For a normal distribution, what is the relationship between its measure of central tendency?\n",
    "\n",
    "For a normal distribution, the mean, median, and mode are all equal and located at the center of the distribution."
   ]
  },
  {
   "cell_type": "code",
   "execution_count": null,
   "id": "a7b84487-5c75-4cd1-9689-f2e166f75e73",
   "metadata": {},
   "outputs": [],
   "source": [
    "How is covariance different from correlation?\n",
    "\n",
    "Covariance: Indicates the direction of the linear relationship between two variables but does not provide the strength or standardized measure.\n",
    "Correlation: Provides both the direction and strength of the linear relationship between two variables and is normalized, making it dimensionless."
   ]
  },
  {
   "cell_type": "code",
   "execution_count": null,
   "id": "39432050-49b5-44f5-b47b-ad0ecb0834cb",
   "metadata": {},
   "outputs": [],
   "source": [
    "How do outliers affect measures of central tendency and dispersion? Provide an example.\n",
    "\n",
    "Central Tendency: Outliers can significantly affect the mean, making it higher or lower than the typical values. For example, in the dataset [1, 2, 2, 2, 2, 100], the mean is skewed by the outlier 100, while the median is less affected.\n",
    "Dispersion: Outliers increase the range, variance, and standard deviation, reflecting greater spread in the dataset. For the same dataset, the range and standard deviation are much larger due to the outlier."
   ]
  },
  {
   "cell_type": "code",
   "execution_count": null,
   "id": "10fbd28f-800c-4048-ac78-f72e4c38a3c3",
   "metadata": {},
   "outputs": [],
   "source": []
  },
  {
   "cell_type": "code",
   "execution_count": null,
   "id": "c5b6f490-eac1-4030-b6fd-28f255080c8e",
   "metadata": {},
   "outputs": [],
   "source": []
  },
  {
   "cell_type": "code",
   "execution_count": null,
   "id": "a5891adb-28b2-45fa-8626-e23e87754019",
   "metadata": {},
   "outputs": [],
   "source": []
  },
  {
   "cell_type": "code",
   "execution_count": null,
   "id": "2fc9ff28-5a36-43bc-89e7-b1281c73561d",
   "metadata": {},
   "outputs": [],
   "source": []
  },
  {
   "cell_type": "code",
   "execution_count": null,
   "id": "f076c373-64a1-44e6-a04c-7326a441d0fb",
   "metadata": {},
   "outputs": [],
   "source": []
  },
  {
   "cell_type": "code",
   "execution_count": null,
   "id": "ab2d58d5-6480-4191-b264-140017bb9827",
   "metadata": {},
   "outputs": [],
   "source": []
  }
 ],
 "metadata": {
  "kernelspec": {
   "display_name": "Python 3 (ipykernel)",
   "language": "python",
   "name": "python3"
  },
  "language_info": {
   "codemirror_mode": {
    "name": "ipython",
    "version": 3
   },
   "file_extension": ".py",
   "mimetype": "text/x-python",
   "name": "python",
   "nbconvert_exporter": "python",
   "pygments_lexer": "ipython3",
   "version": "3.10.8"
  }
 },
 "nbformat": 4,
 "nbformat_minor": 5
}
